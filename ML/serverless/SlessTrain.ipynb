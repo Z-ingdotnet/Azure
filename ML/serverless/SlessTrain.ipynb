{
 "cells": [
  {
   "cell_type": "code",
   "execution_count": null,
   "id": "59eccea3",
   "metadata": {},
   "outputs": [],
   "source": [
    "from azure.ai.ml import MLClient, command\n",
    "from azure.ai.ml.entities import ResourceConfiguration, UserIdentityConfiguration\n",
    "from azure.identity import DefaultAzureCredential\n",
    "\n",
    "def submit_mlslt_job(subscription_id, resource_group_name, workspace_name, cmd, environment, job_tier, instance_type, instance_count):\n",
    "    # Create a credential object using identity library\n",
    "    credential = DefaultAzureCredential()\n",
    "\n",
    "    #Initialize & provided ws details\n",
    "    ml_client = MLClient(\n",
    "        credential=credential,\n",
    "        subscription_id=subscription_id,\n",
    "        resource_group_name=resource_group_name,\n",
    "        workspace_name=workspace_name,\n",
    "    )\n",
    "\n",
    "    #define job with the provided parameters\n",
    "    job = command(\n",
    "        command=cmd,\n",
    "        environment=environment,\n",
    "        identity=UserIdentityConfiguration(),  #identity configurations\n",
    "        queue_settings={\n",
    "            \"job_tier\": job_tier,\n",
    "        },\n",
    "    )\n",
    "    \n",
    "    job.resources = ResourceConfiguration(instance_type=instance_type, instance_count=instance_count)\n",
    "\n",
    "    # submit job to workspace\n",
    "    ml_client.create_or_update(job)\n",
    "\n",
    "# Example usage\n",
    "#\"Standard\",\"spot\" \n",
    "\n",
    "submit_mlslt_job(\n",
    "    subscription_id=\"\",\n",
    "    resource_group_name=\"\",\n",
    "    workspace_name=\"\",\n",
    "    cmd=\"echo 'hello world'\",\n",
    "    environment=\"AzureML-sklearn-1.0-ubuntu20.04-py38-cpu@latest\",\n",
    "    job_tier=\"Standard\",\n",
    "    instance_type=\"Standard_E4s_v3\",\n",
    "    instance_count=4\n",
    ")\n"
   ]
  },
  {
   "cell_type": "code",
   "execution_count": null,
   "id": "7c26e54f",
   "metadata": {},
   "outputs": [],
   "source": []
  }
 ],
 "metadata": {
  "kernelspec": {
   "display_name": "Python 3",
   "language": "python",
   "name": "python3"
  },
  "language_info": {
   "codemirror_mode": {
    "name": "ipython",
    "version": 3
   },
   "file_extension": ".py",
   "mimetype": "text/x-python",
   "name": "python",
   "nbconvert_exporter": "python",
   "pygments_lexer": "ipython3",
   "version": "3.8.8"
  }
 },
 "nbformat": 4,
 "nbformat_minor": 5
}
